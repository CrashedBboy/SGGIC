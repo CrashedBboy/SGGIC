{
 "cells": [
  {
   "cell_type": "code",
   "execution_count": 1,
   "id": "8a5ded99-5d88-40e5-879f-4080e283db77",
   "metadata": {},
   "outputs": [],
   "source": [
    "import math\n",
    "import io\n",
    "import shutil\n",
    "import os\n",
    "import sys\n",
    "from os import path\n",
    "import csv\n",
    "\n",
    "import numpy as np\n",
    "import clip\n",
    "import cv2\n",
    "from PIL import Image, ImageChops, ImageDraw, ImageFilter\n",
    "import matplotlib.pyplot as plt\n",
    "from skimage.transform import resize\n",
    "\n",
    "import torch\n",
    "from torchvision import transforms\n",
    "from torchvision.transforms import Compose, Resize, ToTensor, Normalize\n",
    "from torchvision.transforms import InterpolationMode\n",
    "\n",
    "from compressai.zoo import cheng2020_attn\n",
    "from torchvision import transforms\n",
    "from pytorch_msssim import ms_ssim\n",
    "\n",
    "device = 'cuda' if torch.cuda.is_available() else 'cpu'\n",
    "checkpoint_epoch = \"\""
   ]
  },
  {
   "cell_type": "code",
   "execution_count": 10,
   "id": "870e01c8-b79e-4f14-9d3c-c9d4759f4258",
   "metadata": {},
   "outputs": [],
   "source": [
    "BASE_IMG_DIM = 512\n",
    "VAE_QUALITY = 1\n",
    "VAE_IMG_DIM = int(512/1)"
   ]
  },
  {
   "cell_type": "code",
   "execution_count": 11,
   "id": "1fbd2592-c018-41f6-9c95-d55a7eb4a914",
   "metadata": {},
   "outputs": [
    {
     "name": "stderr",
     "output_type": "stream",
     "text": [
      "Downloading: \"https://compressai.s3.amazonaws.com/models/v1/cheng2020_attn-mse-1-465f2b64.pth.tar\" to C:\\Users\\CrashedBboy/.cache\\torch\\hub\\checkpoints\\cheng2020_attn-mse-1-465f2b64.pth.tar\n",
      "100%|█████████████████████████████████████████████████████████████████████████████| 54.3M/54.3M [00:01<00:00, 39.9MB/s]\n"
     ]
    }
   ],
   "source": [
    "# If using pre-trained\n",
    "VAE_model = cheng2020_attn(quality=VAE_QUALITY, pretrained=True).eval().to(device)"
   ]
  },
  {
   "cell_type": "code",
   "execution_count": 29,
   "id": "74961cd6-f25a-46b6-9926-91169b17f5e5",
   "metadata": {},
   "outputs": [
    {
     "data": {
      "text/plain": [
       "<All keys matched successfully>"
      ]
     },
     "execution_count": 29,
     "metadata": {},
     "output_type": "execute_result"
    }
   ],
   "source": [
    "# If using fine-tuned\n",
    "VAE_model = cheng2020_attn(quality=6, pretrained=False).eval().to(device)\n",
    "\n",
    "checkpoint_epoch = f\"{299}\"\n",
    "checkpoint_path = path.join('CompressAI', f'{checkpoint_epoch}_checkpoint.pth.tar')\n",
    "checkpoint = torch.load(checkpoint_path)\n",
    "VAE_model.load_state_dict(checkpoint['state_dict'])"
   ]
  },
  {
   "cell_type": "code",
   "execution_count": 4,
   "id": "1654c628-a1fe-4a8b-927b-50d49c4849aa",
   "metadata": {},
   "outputs": [],
   "source": [
    "def compute_bpp(out_net):\n",
    "    size = out_net['x_hat'].size()\n",
    "    num_pixels = size[0] * size[2] * size[3]\n",
    "    return sum(torch.log(likelihoods).sum() / (-math.log(2) * num_pixels) for likelihoods in out_net['likelihoods'].values()).item()\n",
    "def export_bpp(bpp_table, path):\n",
    "    assert 'ID' in bpp_table.keys()\n",
    "    \n",
    "    headers = bpp_table.keys()\n",
    "    # Open a new CSV file for writing\n",
    "    with open(path, 'w', newline='') as csvfile:\n",
    "        # Create a CSV writer object\n",
    "        csvwriter = csv.writer(csvfile)\n",
    "        # Write the headers (keys)\n",
    "        csvwriter.writerow(headers)\n",
    "        # Write the rows (values)\n",
    "        for i in range(len(bpp_table['ID'])):\n",
    "            csvwriter.writerow([bpp_table[key][i] for key in headers])"
   ]
  },
  {
   "cell_type": "code",
   "execution_count": 30,
   "id": "39775895-379e-4842-8c02-dd43682738e5",
   "metadata": {
    "scrolled": true
   },
   "outputs": [
    {
     "name": "stdout",
     "output_type": "stream",
     "text": [
      "alberto-montalesi-176097: 0.05644606426358223 BPP\n",
      "alejandro-escamilla-6: 0.06585147976875305 BPP\n",
      "ales-krivec-15949: 0.09637469798326492 BPP\n",
      "alexander-shustov-73: 0.1207105815410614 BPP\n",
      "allef-vinicius-109434: 0.04451465979218483 BPP\n",
      "amy-zhang-15940: 0.05188096687197685 BPP\n",
      "andrew-ruiz-376: 0.10786150395870209 BPP\n",
      "benjamin-sloth-lindgreen-705: 0.05217687040567398 BPP\n",
      "casey-fyfe-999: 0.020797638222575188 BPP\n",
      "clem-onojeghuo-33741: 0.071669802069664 BPP\n",
      "daniel-robert-405: 0.08775965869426727 BPP\n",
      "davide-ragusa-716: 0.02797914668917656 BPP\n",
      "dogancan-ozturan-395: 0.10308688879013062 BPP\n",
      "felix-russell-saw-140699: 0.0433218777179718 BPP\n",
      "gian-reto-tarnutzer-45212: 0.06157468259334564 BPP\n",
      "jared-erondu-21325: 0.038278691470623016 BPP\n",
      "jason-briscoe-149782: 0.04717516154050827 BPP\n",
      "jeremy-cai-1174: 0.12954120337963104 BPP\n",
      "juskteez-vu-1041: 0.022250622510910034 BPP\n",
      "kazuend-28556: 0.03801722452044487 BPP\n",
      "lobostudio-hamburg-75377: 0.030657319352030754 BPP\n",
      "martin-wessely-211: 0.08249946683645248 BPP\n",
      "martyn-seddon-220: 0.06249696761369705 BPP\n",
      "michael-durana-82941: 0.04712773859500885 BPP\n",
      "mullermarc-184: 0.077499158680439 BPP\n",
      "nomao-saeki-33553: 0.0395197868347168 BPP\n",
      "paul-itkin-46101: 0.13567303121089935 BPP\n",
      "philipp-reiner-207: 0.0458235926926136 BPP\n",
      "philippe-wuyts-45997: 0.06259478628635406 BPP\n",
      "roberto-nickson-48063: 0.04707895591855049 BPP\n",
      "schicka-307: 0.03498036414384842 BPP\n",
      "sergey-zolkin-1045: 0.05884494632482529 BPP\n",
      "sergey-zolkin-21232: 0.03199472278356552 BPP\n",
      "stefan-kunze-26931: 0.04401315003633499 BPP\n",
      "thong-vo-428: 0.09776853770017624 BPP\n",
      "todd-quackenbush-222: 0.052026648074388504 BPP\n",
      "todd-quackenbush-27493: 0.03795499727129936 BPP\n",
      "veeterzy-82537: 0.12165873497724533 BPP\n",
      "vita-vilcina-3055: 0.12154753506183624 BPP\n",
      "wojciech-szaturski-3611: 0.043652404099702835 BPP\n",
      "zugr-108: 0.0688675045967102 BPP\n",
      "Quality: 1, Dimension: 512, Average: 0.06418414077744251\n"
     ]
    }
   ],
   "source": [
    "dataset = 'valid'\n",
    "if checkpoint_epoch != \"\":\n",
    "    OUTPUT_TAG = f\"ft_e{checkpoint_epoch}\"\n",
    "else:\n",
    "    OUTPUT_TAG = f'pixpat_q{VAE_QUALITY}'\n",
    "\n",
    "input_dir = path.join('dataset', 'clic2020-professional', 'preprocessed', dataset)\n",
    "output_dir = path.join('dataset', 'clic2020-professional', 'preprocessed', f'{dataset}_{OUTPUT_TAG}_d{VAE_IMG_DIM}')\n",
    "\n",
    "if not path.exists(output_dir):\n",
    "    os.makedirs(output_dir)\n",
    "\n",
    "files = [f for f in os.listdir(input_dir) if path.isfile(path.join(input_dir, f))]\n",
    "bpp_table = {\n",
    "    \"ID\": [],\n",
    "    \"BPP\": []\n",
    "}\n",
    "for f in files:\n",
    "    if \".png\" in f:\n",
    "        img_id = f.split('.png')[0]\n",
    "        img = Image.open(path.join(input_dir, f)).convert('RGB')\n",
    "        if VAE_IMG_DIM is not BASE_IMG_DIM:\n",
    "            img = img.resize((VAE_IMG_DIM, VAE_IMG_DIM))\n",
    "        x = transforms.ToTensor()(img).unsqueeze(0).to(device)\n",
    "        output = None\n",
    "        with torch.no_grad():\n",
    "            output = VAE_model(x)\n",
    "            output['x_hat'].clamp_(0, 1)\n",
    "\n",
    "        reconstruction = transforms.ToPILImage()(output['x_hat'].squeeze())\n",
    "        reconstruction.save(path.join(output_dir, f'{img_id}.png'))\n",
    "        bpp = compute_bpp(output)\n",
    "        bpp_table[\"ID\"].append(img_id)\n",
    "        bpp_table[\"BPP\"].append(bpp)\n",
    "        print(f\"{img_id}: {bpp} BPP\")\n",
    "\n",
    "average_bpp = sum(bpp_table[\"BPP\"])/len(bpp_table[\"BPP\"])\n",
    "export_bpp(bpp_table, path.join(output_dir, f'bpp_avg_{average_bpp}.csv'))\n",
    "print(f'Quality: {VAE_QUALITY}, Dimension: {VAE_IMG_DIM}, Average: {average_bpp}')"
   ]
  }
 ],
 "metadata": {
  "kernelspec": {
   "display_name": "Python 3 (ipykernel)",
   "language": "python",
   "name": "python3"
  },
  "language_info": {
   "codemirror_mode": {
    "name": "ipython",
    "version": 3
   },
   "file_extension": ".py",
   "mimetype": "text/x-python",
   "name": "python",
   "nbconvert_exporter": "python",
   "pygments_lexer": "ipython3",
   "version": "3.12.2"
  }
 },
 "nbformat": 4,
 "nbformat_minor": 5
}
